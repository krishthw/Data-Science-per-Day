{
 "cells": [
  {
   "cell_type": "markdown",
   "metadata": {},
   "source": [
    "You are given a list of numbers J and a single number p. Write a function to return the minimum and maximum averages of the sequences of p numbers in J. \n",
    "\n",
    "Example:\n",
    "\n",
    "J = [4, 4, 4, 9, 10, 11, 12]\n",
    "\n",
    "p = 3\n",
    "\n",
    "The sequences will be:\n",
    "\n",
    "(4,4,4)\n",
    "\n",
    "(4,4,9)\n",
    "\n",
    "(4,9,10)\n",
    "\n",
    "(9,10,11)\n",
    "\n",
    "(10,11,12)\n",
    "\n"
   ]
  },
  {
   "cell_type": "markdown",
   "metadata": {},
   "source": [
    "The convolution of two signals is defined as **the integral of the first signal, reversed, sweeping over (\"convolved onto\") the second signal and multiplied (with the scalar product) at each position** of overlapping vectors.\n",
    "\n",
    "**Ex:**\n",
    "np.convolve([3, 4], [1, 1, 5, 5], 'valid')\n",
    "\n",
    "\n",
    "4 * 1 + 3 * 1 = 7\n",
    "\n",
    "4 * 1 + 3 * 5 = 19\n",
    "\n",
    "4 * 5 + 3 * 5 = 35\n",
    "\n",
    "so in our case,\n",
    "\n",
    "if we **make a array of three 1's a=[1,1,1]** and **convolve it with j** and finally **didvide each value by 3** we can get the moving average.**\n"
   ]
  },
  {
   "cell_type": "code",
   "execution_count": 3,
   "metadata": {},
   "outputs": [],
   "source": [
    "#Let's first import numpy\n",
    "import numpy as np"
   ]
  },
  {
   "cell_type": "code",
   "execution_count": 1,
   "metadata": {},
   "outputs": [],
   "source": [
    "j=[4,4,4,9,10,11,12]"
   ]
  },
  {
   "cell_type": "code",
   "execution_count": 2,
   "metadata": {},
   "outputs": [],
   "source": [
    "p=3"
   ]
  },
  {
   "cell_type": "code",
   "execution_count": 26,
   "metadata": {},
   "outputs": [],
   "source": [
    "def movingavg(values,window):\n",
    "    weight=np.repeat(1,window) # Repeat elements of an array. here repeat 1 for 'window' times\n",
    "    sma=np.convolve(values,weight,'valid')/window # sma is the convolution of values and weight divided by window\n",
    "    return sma\n",
    "    "
   ]
  },
  {
   "cell_type": "code",
   "execution_count": 27,
   "metadata": {},
   "outputs": [
    {
     "data": {
      "text/plain": [
       "array([ 4.        ,  5.66666667,  7.66666667, 10.        , 11.        ])"
      ]
     },
     "execution_count": 27,
     "metadata": {},
     "output_type": "execute_result"
    }
   ],
   "source": [
    "movingavg(j,p)"
   ]
  },
  {
   "cell_type": "code",
   "execution_count": null,
   "metadata": {},
   "outputs": [],
   "source": []
  },
  {
   "cell_type": "code",
   "execution_count": null,
   "metadata": {},
   "outputs": [],
   "source": []
  }
 ],
 "metadata": {
  "kernelspec": {
   "display_name": "Python 3",
   "language": "python",
   "name": "python3"
  },
  "language_info": {
   "codemirror_mode": {
    "name": "ipython",
    "version": 3
   },
   "file_extension": ".py",
   "mimetype": "text/x-python",
   "name": "python",
   "nbconvert_exporter": "python",
   "pygments_lexer": "ipython3",
   "version": "3.7.1"
  }
 },
 "nbformat": 4,
 "nbformat_minor": 2
}
